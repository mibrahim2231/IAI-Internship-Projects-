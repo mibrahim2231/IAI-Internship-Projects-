{
  "nbformat": 4,
  "nbformat_minor": 0,
  "metadata": {
    "colab": {
      "provenance": [],
      "authorship_tag": "ABX9TyNK0KkIm+BfmB7wQW4xXmM3",
      "include_colab_link": true
    },
    "kernelspec": {
      "name": "python3",
      "display_name": "Python 3"
    },
    "language_info": {
      "name": "python"
    }
  },
  "cells": [
    {
      "cell_type": "markdown",
      "metadata": {
        "id": "view-in-github",
        "colab_type": "text"
      },
      "source": [
        "<a href=\"https://colab.research.google.com/github/mibrahim2231/IAI-Internship-Projects-/blob/main/NLP_Techniques.ipynb\" target=\"_parent\"><img src=\"https://colab.research.google.com/assets/colab-badge.svg\" alt=\"Open In Colab\"/></a>"
      ]
    },
    {
      "cell_type": "markdown",
      "source": [
        "TOKENIZATION EXAMPLES USING **NLTK**"
      ],
      "metadata": {
        "id": "1rWADvYv8eRl"
      }
    },
    {
      "cell_type": "code",
      "execution_count": 7,
      "metadata": {
        "colab": {
          "base_uri": "https://localhost:8080/"
        },
        "id": "yIMMGGWW47k1",
        "outputId": "28348091-9b6f-44a1-ce62-5973d55ddcf5"
      },
      "outputs": [
        {
          "output_type": "stream",
          "name": "stdout",
          "text": [
            "Requirement already satisfied: nltk in /usr/local/lib/python3.11/dist-packages (3.9.1)\n",
            "Requirement already satisfied: click in /usr/local/lib/python3.11/dist-packages (from nltk) (8.2.1)\n",
            "Requirement already satisfied: joblib in /usr/local/lib/python3.11/dist-packages (from nltk) (1.5.0)\n",
            "Requirement already satisfied: regex>=2021.8.3 in /usr/local/lib/python3.11/dist-packages (from nltk) (2024.11.6)\n",
            "Requirement already satisfied: tqdm in /usr/local/lib/python3.11/dist-packages (from nltk) (4.67.1)\n"
          ]
        },
        {
          "output_type": "stream",
          "name": "stderr",
          "text": [
            "[nltk_data] Downloading package punkt_tab to /root/nltk_data...\n",
            "[nltk_data]   Unzipping tokenizers/punkt_tab.zip.\n"
          ]
        },
        {
          "output_type": "execute_result",
          "data": {
            "text/plain": [
              "True"
            ]
          },
          "metadata": {},
          "execution_count": 7
        }
      ],
      "source": [
        "!pip install nltk\n",
        "import nltk\n",
        "nltk.download ('punkt_tab')"
      ]
    },
    {
      "cell_type": "code",
      "source": [
        "corpus= \"\"\"Hello, Welcome to IAI's research internship.\n",
        "Please go through the whole course! to become expert in the field.\n",
        "\"\"\""
      ],
      "metadata": {
        "id": "0KcEWZac4_kS"
      },
      "execution_count": null,
      "outputs": []
    },
    {
      "cell_type": "code",
      "source": [
        "# Sentence -- Paragraphs\n",
        "from nltk.tokenize import sent_tokenize"
      ],
      "metadata": {
        "id": "2lBRtuy34_nU"
      },
      "execution_count": null,
      "outputs": []
    },
    {
      "cell_type": "code",
      "source": [
        "documents =sent_tokenize(corpus)"
      ],
      "metadata": {
        "id": "N7asbiqd4_qC"
      },
      "execution_count": null,
      "outputs": []
    },
    {
      "cell_type": "code",
      "source": [
        "type (documents)"
      ],
      "metadata": {
        "colab": {
          "base_uri": "https://localhost:8080/"
        },
        "id": "XM7e49Hc6fQq",
        "outputId": "12ea6f15-a7cd-40f3-8ee3-a5648efd0fdb"
      },
      "execution_count": null,
      "outputs": [
        {
          "output_type": "execute_result",
          "data": {
            "text/plain": [
              "list"
            ]
          },
          "metadata": {},
          "execution_count": 95
        }
      ]
    },
    {
      "cell_type": "code",
      "source": [
        "for sentence in documents:\n",
        "  print (sentence)"
      ],
      "metadata": {
        "colab": {
          "base_uri": "https://localhost:8080/"
        },
        "id": "MJbIl_G86for",
        "outputId": "2f7ab4fb-a863-4f8c-d14a-a1a191faa1f7"
      },
      "execution_count": null,
      "outputs": [
        {
          "output_type": "stream",
          "name": "stdout",
          "text": [
            "Hello, Welcome to IAI's research internship.\n",
            "Please go through the whole course!\n",
            "to become expert in the field.\n"
          ]
        }
      ]
    },
    {
      "cell_type": "code",
      "source": [
        "##Tokenization\n",
        "##Paragraph --> words\n",
        "##Sentences --> words\n",
        "from nltk.tokenize import word_tokenize"
      ],
      "metadata": {
        "id": "xi1uRZYy6frb"
      },
      "execution_count": null,
      "outputs": []
    },
    {
      "cell_type": "code",
      "source": [
        "word_tokenize (corpus)"
      ],
      "metadata": {
        "colab": {
          "base_uri": "https://localhost:8080/"
        },
        "id": "WdgP5TTV6ful",
        "outputId": "8eabf2c1-2f4c-47a6-8ac8-84c8ec0ca739"
      },
      "execution_count": null,
      "outputs": [
        {
          "output_type": "execute_result",
          "data": {
            "text/plain": [
              "['Hello',\n",
              " ',',\n",
              " 'Welcome',\n",
              " 'to',\n",
              " 'IAI',\n",
              " \"'s\",\n",
              " 'research',\n",
              " 'internship',\n",
              " '.',\n",
              " 'Please',\n",
              " 'go',\n",
              " 'through',\n",
              " 'the',\n",
              " 'whole',\n",
              " 'course',\n",
              " '!',\n",
              " 'to',\n",
              " 'become',\n",
              " 'expert',\n",
              " 'in',\n",
              " 'the',\n",
              " 'field',\n",
              " '.']"
            ]
          },
          "metadata": {},
          "execution_count": 98
        }
      ]
    },
    {
      "cell_type": "code",
      "source": [
        "for sentence in documents:\n",
        "  print (word_tokenize (sentence))"
      ],
      "metadata": {
        "colab": {
          "base_uri": "https://localhost:8080/"
        },
        "id": "nZygi75i6fxT",
        "outputId": "e0ad93a4-87c6-47b5-d35e-1ffbb7f5541a"
      },
      "execution_count": null,
      "outputs": [
        {
          "output_type": "stream",
          "name": "stdout",
          "text": [
            "['Hello', ',', 'Welcome', 'to', 'IAI', \"'s\", 'research', 'internship', '.']\n",
            "['Please', 'go', 'through', 'the', 'whole', 'course', '!']\n",
            "['to', 'become', 'expert', 'in', 'the', 'field', '.']\n"
          ]
        }
      ]
    },
    {
      "cell_type": "code",
      "source": [
        "##Punctuations also get treated seperately\n",
        "from nltk.tokenize import wordpunct_tokenize"
      ],
      "metadata": {
        "id": "HO_AY3-t7nU5"
      },
      "execution_count": null,
      "outputs": []
    },
    {
      "cell_type": "code",
      "source": [
        "wordpunct_tokenize(corpus)"
      ],
      "metadata": {
        "colab": {
          "base_uri": "https://localhost:8080/"
        },
        "id": "EK7Is4FG6fzx",
        "outputId": "df992543-19ec-4d22-88a0-74f70c34b841"
      },
      "execution_count": null,
      "outputs": [
        {
          "output_type": "execute_result",
          "data": {
            "text/plain": [
              "['Hello',\n",
              " ',',\n",
              " 'Welcome',\n",
              " 'to',\n",
              " 'IAI',\n",
              " \"'\",\n",
              " 's',\n",
              " 'research',\n",
              " 'internship',\n",
              " '.',\n",
              " 'Please',\n",
              " 'go',\n",
              " 'through',\n",
              " 'the',\n",
              " 'whole',\n",
              " 'course',\n",
              " '!',\n",
              " 'to',\n",
              " 'become',\n",
              " 'expert',\n",
              " 'in',\n",
              " 'the',\n",
              " 'field',\n",
              " '.']"
            ]
          },
          "metadata": {},
          "execution_count": 101
        }
      ]
    },
    {
      "cell_type": "code",
      "source": [
        "#TreeBank_Tokenizer\n",
        "from nltk import TreebankWordTokenizer"
      ],
      "metadata": {
        "id": "x6SMXNq56f4s"
      },
      "execution_count": null,
      "outputs": []
    },
    {
      "cell_type": "code",
      "source": [
        "tokenizer= TreebankWordTokenizer()\n",
        "tokenizer.tokenize(corpus)\n",
        "## Full stop will be considered seperate except for last one."
      ],
      "metadata": {
        "colab": {
          "base_uri": "https://localhost:8080/"
        },
        "id": "lFneGdez6f7h",
        "outputId": "c66ea138-dc3e-4fe8-8239-cd5662f72d23"
      },
      "execution_count": null,
      "outputs": [
        {
          "output_type": "execute_result",
          "data": {
            "text/plain": [
              "['Hello',\n",
              " ',',\n",
              " 'Welcome',\n",
              " 'to',\n",
              " 'IAI',\n",
              " \"'s\",\n",
              " 'research',\n",
              " 'internship.',\n",
              " 'Please',\n",
              " 'go',\n",
              " 'through',\n",
              " 'the',\n",
              " 'whole',\n",
              " 'course',\n",
              " '!',\n",
              " 'to',\n",
              " 'become',\n",
              " 'expert',\n",
              " 'in',\n",
              " 'the',\n",
              " 'field',\n",
              " '.']"
            ]
          },
          "metadata": {},
          "execution_count": 103
        }
      ]
    },
    {
      "cell_type": "markdown",
      "source": [
        "**STEMMING AND ITS TYPES (TEXT PREPROCESSING)**"
      ],
      "metadata": {
        "id": "sw0cPdtu8oK1"
      }
    },
    {
      "cell_type": "code",
      "source": [
        "##Used in Classification Problems\n",
        "words = [\"eating\",\"eats\",\"eaten\",\"writing\",\"writes\",\"programming\",\"finally\",\"history\",\"finalized\"]"
      ],
      "metadata": {
        "id": "am2PzR5W6gEc"
      },
      "execution_count": null,
      "outputs": []
    },
    {
      "cell_type": "code",
      "source": [
        "#Porter_Stemmer Technique:\n",
        "from nltk.stem import PorterStemmer\n",
        "stemming = PorterStemmer()"
      ],
      "metadata": {
        "id": "8HWK45iQ6gHK"
      },
      "execution_count": null,
      "outputs": []
    },
    {
      "cell_type": "code",
      "source": [
        "for word in words :\n",
        "  print (word + \"---->\" +stemming.stem(word))"
      ],
      "metadata": {
        "colab": {
          "base_uri": "https://localhost:8080/"
        },
        "id": "rq4hvGEW9pjZ",
        "outputId": "10e576bd-4ca4-468f-a2db-e790dcd1a8a0"
      },
      "execution_count": null,
      "outputs": [
        {
          "output_type": "stream",
          "name": "stdout",
          "text": [
            "eating---->eat\n",
            "eats---->eat\n",
            "eaten---->eaten\n",
            "writing---->write\n",
            "writes---->write\n",
            "programming---->program\n",
            "finally---->final\n",
            "history---->histori\n",
            "finalized---->final\n"
          ]
        }
      ]
    },
    {
      "cell_type": "code",
      "source": [
        "##For words like history and congratulations, it doesnt give good results.\n",
        "stemming.stem('congratulations')"
      ],
      "metadata": {
        "colab": {
          "base_uri": "https://localhost:8080/",
          "height": 35
        },
        "id": "XQ4N8ATC9peO",
        "outputId": "584c75ad-4c7d-44fb-8d8e-490c40c342b6"
      },
      "execution_count": null,
      "outputs": [
        {
          "output_type": "execute_result",
          "data": {
            "text/plain": [
              "'congratul'"
            ],
            "application/vnd.google.colaboratory.intrinsic+json": {
              "type": "string"
            }
          },
          "metadata": {},
          "execution_count": 107
        }
      ]
    },
    {
      "cell_type": "code",
      "source": [
        "##Regexp Stemmer Class :\n",
        "from nltk.stem import RegexpStemmer"
      ],
      "metadata": {
        "id": "bPs75B2N-Cn6"
      },
      "execution_count": null,
      "outputs": []
    },
    {
      "cell_type": "code",
      "source": [
        "reg_stemmer=RegexpStemmer('ing$|s$|e$|able$', min =4)"
      ],
      "metadata": {
        "id": "SfexuyNk9pYp"
      },
      "execution_count": null,
      "outputs": []
    },
    {
      "cell_type": "code",
      "source": [
        "reg_stemmer.stem ('eating')"
      ],
      "metadata": {
        "colab": {
          "base_uri": "https://localhost:8080/",
          "height": 35
        },
        "id": "9uFLQuHD9pWL",
        "outputId": "c97db3ca-52b1-424e-e727-ce14da86df0c"
      },
      "execution_count": null,
      "outputs": [
        {
          "output_type": "execute_result",
          "data": {
            "text/plain": [
              "'eat'"
            ],
            "application/vnd.google.colaboratory.intrinsic+json": {
              "type": "string"
            }
          },
          "metadata": {},
          "execution_count": 110
        }
      ]
    },
    {
      "cell_type": "code",
      "source": [
        "reg_stemmer.stem ('ingeating')"
      ],
      "metadata": {
        "colab": {
          "base_uri": "https://localhost:8080/",
          "height": 35
        },
        "id": "LmWsaEU19pTA",
        "outputId": "eb1c950f-459c-4d9d-821d-40a843b585b0"
      },
      "execution_count": null,
      "outputs": [
        {
          "output_type": "execute_result",
          "data": {
            "text/plain": [
              "'ingeat'"
            ],
            "application/vnd.google.colaboratory.intrinsic+json": {
              "type": "string"
            }
          },
          "metadata": {},
          "execution_count": 111
        }
      ]
    },
    {
      "cell_type": "code",
      "source": [
        "###Snowball Stemmer (better technique than other two):\n",
        "from nltk.stem import SnowballStemmer"
      ],
      "metadata": {
        "id": "yrnfY2sr_Bq7"
      },
      "execution_count": null,
      "outputs": []
    },
    {
      "cell_type": "code",
      "source": [
        "snowballstemmer=SnowballStemmer('english')"
      ],
      "metadata": {
        "id": "DxH67YmA_Bo2"
      },
      "execution_count": null,
      "outputs": []
    },
    {
      "cell_type": "code",
      "source": [
        "for word in words:\n",
        "  print (word + \"----> \" + snowballstemmer.stem(word))"
      ],
      "metadata": {
        "colab": {
          "base_uri": "https://localhost:8080/"
        },
        "id": "N43UoZWx_Bmw",
        "outputId": "65afbfe0-040b-4945-dee5-8e4c2d5316dd"
      },
      "execution_count": null,
      "outputs": [
        {
          "output_type": "stream",
          "name": "stdout",
          "text": [
            "eating----> eat\n",
            "eats----> eat\n",
            "eaten----> eaten\n",
            "writing----> write\n",
            "writes----> write\n",
            "programming----> program\n",
            "finally----> final\n",
            "history----> histori\n",
            "finalized----> final\n"
          ]
        }
      ]
    },
    {
      "cell_type": "code",
      "source": [
        "##In some cases, snowball gives good results but not for all , so we move to Lemmatization."
      ],
      "metadata": {
        "id": "rcO3yn7G_Biz"
      },
      "execution_count": null,
      "outputs": []
    },
    {
      "cell_type": "code",
      "source": [
        "#For practical use cases, we move to Lemmatization.\n",
        "##Lemmatization Examples in NLTK:\n"
      ],
      "metadata": {
        "id": "SJ44vqox_Bfa"
      },
      "execution_count": null,
      "outputs": []
    },
    {
      "cell_type": "code",
      "source": [
        "#Wordnet Lemmatizer (output will be lemma : root word)\n",
        "##Chatbots Application,text summarization\n",
        "from nltk.stem import WordNetLemmatizer"
      ],
      "metadata": {
        "id": "xtredX95_Bdd"
      },
      "execution_count": null,
      "outputs": []
    },
    {
      "cell_type": "code",
      "source": [
        "lemmatizer=WordNetLemmatizer()\n",
        "import nltk\n",
        "nltk.download('wordnet')"
      ],
      "metadata": {
        "colab": {
          "base_uri": "https://localhost:8080/"
        },
        "id": "y0cwlu4A_Bbn",
        "outputId": "616af6c2-4da6-44e1-9f22-d4d54ffb1a6e"
      },
      "execution_count": null,
      "outputs": [
        {
          "output_type": "stream",
          "name": "stderr",
          "text": [
            "[nltk_data] Downloading package wordnet to /root/nltk_data...\n",
            "[nltk_data]   Package wordnet is already up-to-date!\n"
          ]
        },
        {
          "output_type": "execute_result",
          "data": {
            "text/plain": [
              "True"
            ]
          },
          "metadata": {},
          "execution_count": 118
        }
      ]
    },
    {
      "cell_type": "code",
      "source": [
        "lemmatizer.lemmatize('going','v')"
      ],
      "metadata": {
        "colab": {
          "base_uri": "https://localhost:8080/",
          "height": 35
        },
        "id": "_f52PDmu_BZi",
        "outputId": "1963abda-d6ad-43c1-8d30-0e0208faa802"
      },
      "execution_count": null,
      "outputs": [
        {
          "output_type": "execute_result",
          "data": {
            "text/plain": [
              "'go'"
            ],
            "application/vnd.google.colaboratory.intrinsic+json": {
              "type": "string"
            }
          },
          "metadata": {},
          "execution_count": 119
        }
      ]
    },
    {
      "cell_type": "code",
      "source": [
        "lemmatizer.lemmatize('going','n')"
      ],
      "metadata": {
        "colab": {
          "base_uri": "https://localhost:8080/",
          "height": 35
        },
        "id": "xZXfRHnT_BXZ",
        "outputId": "f0d1c6d3-0b97-449b-b322-b17eba8bc323"
      },
      "execution_count": null,
      "outputs": [
        {
          "output_type": "execute_result",
          "data": {
            "text/plain": [
              "'going'"
            ],
            "application/vnd.google.colaboratory.intrinsic+json": {
              "type": "string"
            }
          },
          "metadata": {},
          "execution_count": 120
        }
      ]
    },
    {
      "cell_type": "code",
      "source": [
        "for word in words :\n",
        "  print (word + \"---->\" +lemmatizer.lemmatize(word,'v'))"
      ],
      "metadata": {
        "colab": {
          "base_uri": "https://localhost:8080/"
        },
        "id": "Ae7QYapr_BUU",
        "outputId": "9d9a9178-6f69-48f6-fc43-1c39f868ffd7"
      },
      "execution_count": null,
      "outputs": [
        {
          "output_type": "stream",
          "name": "stdout",
          "text": [
            "eating---->eat\n",
            "eats---->eat\n",
            "eaten---->eat\n",
            "writing---->write\n",
            "writes---->write\n",
            "programming---->program\n",
            "finally---->finally\n",
            "history---->history\n",
            "finalized---->finalize\n"
          ]
        }
      ]
    },
    {
      "cell_type": "code",
      "source": [
        "###StopWords in Text Pre-Processing\n",
        "paragraph = \"\"\" I have three visions for India. In 3000 years of our history people from all over the world have come and invaded us, captured our lands, conquered our minds. From Alexander onwards the Greeks, the Turks, the Moguls, the Portuguese, the British, the French, the Dutch, all of them came and looted us, took over what was ours. Yet we have not done this to any other nation. We have not conquered anyone. We have not grabbed their land, their culture and their history and tried to enforce our way of life on them. Why? Because we respect the freedom of others. That is why my FIRST VISION is that of FREEDOM. I believe that India got its first vision of this in 1857, when we started the war of Independence. It is this freedom that we must protect and nurture and build on. If we are not free, no one will respect us.\"\"\""
      ],
      "metadata": {
        "id": "tLjx1kxP_BK6"
      },
      "execution_count": 4,
      "outputs": []
    },
    {
      "cell_type": "code",
      "source": [
        "paragraph"
      ],
      "metadata": {
        "colab": {
          "base_uri": "https://localhost:8080/",
          "height": 122
        },
        "id": "3e1TWXZcB-JU",
        "outputId": "8ccc8575-b4cb-447c-b25d-e50cab7dfa2a"
      },
      "execution_count": 5,
      "outputs": [
        {
          "output_type": "execute_result",
          "data": {
            "text/plain": [
              "' I have three visions for India. In 3000 years of our history people from all over the world have come and invaded us, captured our lands, conquered our minds. From Alexander onwards the Greeks, the Turks, the Moguls, the Portuguese, the British, the French, the Dutch, all of them came and looted us, took over what was ours. Yet we have not done this to any other nation. We have not conquered anyone. We have not grabbed their land, their culture and their history and tried to enforce our way of life on them. Why? Because we respect the freedom of others. That is why my FIRST VISION is that of FREEDOM. I believe that India got its first vision of this in 1857, when we started the war of Independence. It is this freedom that we must protect and nurture and build on. If we are not free, no one will respect us.'"
            ],
            "application/vnd.google.colaboratory.intrinsic+json": {
              "type": "string"
            }
          },
          "metadata": {},
          "execution_count": 5
        }
      ]
    },
    {
      "cell_type": "code",
      "source": [
        "from nltk.stem import PorterStemmer\n",
        "from nltk.corpus import stopwords"
      ],
      "metadata": {
        "id": "xmy4Gw0EB-F9"
      },
      "execution_count": 10,
      "outputs": []
    },
    {
      "cell_type": "code",
      "source": [
        "import nltk\n",
        "nltk.download ('stopwords')"
      ],
      "metadata": {
        "colab": {
          "base_uri": "https://localhost:8080/"
        },
        "id": "izWMGFibB-EN",
        "outputId": "ca30a3a2-e5f6-4130-8b29-43666162b70b"
      },
      "execution_count": 12,
      "outputs": [
        {
          "output_type": "stream",
          "name": "stderr",
          "text": [
            "[nltk_data] Downloading package stopwords to /root/nltk_data...\n",
            "[nltk_data]   Unzipping corpora/stopwords.zip.\n"
          ]
        },
        {
          "output_type": "execute_result",
          "data": {
            "text/plain": [
              "True"
            ]
          },
          "metadata": {},
          "execution_count": 12
        }
      ]
    },
    {
      "cell_type": "code",
      "source": [
        "stopwords.words('english')"
      ],
      "metadata": {
        "colab": {
          "base_uri": "https://localhost:8080/"
        },
        "id": "SCuD1TVVB-CG",
        "outputId": "f64c991f-f712-4a77-cfdd-96c9b9721a77"
      },
      "execution_count": null,
      "outputs": [
        {
          "output_type": "execute_result",
          "data": {
            "text/plain": [
              "['a',\n",
              " 'about',\n",
              " 'above',\n",
              " 'after',\n",
              " 'again',\n",
              " 'against',\n",
              " 'ain',\n",
              " 'all',\n",
              " 'am',\n",
              " 'an',\n",
              " 'and',\n",
              " 'any',\n",
              " 'are',\n",
              " 'aren',\n",
              " \"aren't\",\n",
              " 'as',\n",
              " 'at',\n",
              " 'be',\n",
              " 'because',\n",
              " 'been',\n",
              " 'before',\n",
              " 'being',\n",
              " 'below',\n",
              " 'between',\n",
              " 'both',\n",
              " 'but',\n",
              " 'by',\n",
              " 'can',\n",
              " 'couldn',\n",
              " \"couldn't\",\n",
              " 'd',\n",
              " 'did',\n",
              " 'didn',\n",
              " \"didn't\",\n",
              " 'do',\n",
              " 'does',\n",
              " 'doesn',\n",
              " \"doesn't\",\n",
              " 'doing',\n",
              " 'don',\n",
              " \"don't\",\n",
              " 'down',\n",
              " 'during',\n",
              " 'each',\n",
              " 'few',\n",
              " 'for',\n",
              " 'from',\n",
              " 'further',\n",
              " 'had',\n",
              " 'hadn',\n",
              " \"hadn't\",\n",
              " 'has',\n",
              " 'hasn',\n",
              " \"hasn't\",\n",
              " 'have',\n",
              " 'haven',\n",
              " \"haven't\",\n",
              " 'having',\n",
              " 'he',\n",
              " \"he'd\",\n",
              " \"he'll\",\n",
              " 'her',\n",
              " 'here',\n",
              " 'hers',\n",
              " 'herself',\n",
              " \"he's\",\n",
              " 'him',\n",
              " 'himself',\n",
              " 'his',\n",
              " 'how',\n",
              " 'i',\n",
              " \"i'd\",\n",
              " 'if',\n",
              " \"i'll\",\n",
              " \"i'm\",\n",
              " 'in',\n",
              " 'into',\n",
              " 'is',\n",
              " 'isn',\n",
              " \"isn't\",\n",
              " 'it',\n",
              " \"it'd\",\n",
              " \"it'll\",\n",
              " \"it's\",\n",
              " 'its',\n",
              " 'itself',\n",
              " \"i've\",\n",
              " 'just',\n",
              " 'll',\n",
              " 'm',\n",
              " 'ma',\n",
              " 'me',\n",
              " 'mightn',\n",
              " \"mightn't\",\n",
              " 'more',\n",
              " 'most',\n",
              " 'mustn',\n",
              " \"mustn't\",\n",
              " 'my',\n",
              " 'myself',\n",
              " 'needn',\n",
              " \"needn't\",\n",
              " 'no',\n",
              " 'nor',\n",
              " 'not',\n",
              " 'now',\n",
              " 'o',\n",
              " 'of',\n",
              " 'off',\n",
              " 'on',\n",
              " 'once',\n",
              " 'only',\n",
              " 'or',\n",
              " 'other',\n",
              " 'our',\n",
              " 'ours',\n",
              " 'ourselves',\n",
              " 'out',\n",
              " 'over',\n",
              " 'own',\n",
              " 're',\n",
              " 's',\n",
              " 'same',\n",
              " 'shan',\n",
              " \"shan't\",\n",
              " 'she',\n",
              " \"she'd\",\n",
              " \"she'll\",\n",
              " \"she's\",\n",
              " 'should',\n",
              " 'shouldn',\n",
              " \"shouldn't\",\n",
              " \"should've\",\n",
              " 'so',\n",
              " 'some',\n",
              " 'such',\n",
              " 't',\n",
              " 'than',\n",
              " 'that',\n",
              " \"that'll\",\n",
              " 'the',\n",
              " 'their',\n",
              " 'theirs',\n",
              " 'them',\n",
              " 'themselves',\n",
              " 'then',\n",
              " 'there',\n",
              " 'these',\n",
              " 'they',\n",
              " \"they'd\",\n",
              " \"they'll\",\n",
              " \"they're\",\n",
              " \"they've\",\n",
              " 'this',\n",
              " 'those',\n",
              " 'through',\n",
              " 'to',\n",
              " 'too',\n",
              " 'under',\n",
              " 'until',\n",
              " 'up',\n",
              " 've',\n",
              " 'very',\n",
              " 'was',\n",
              " 'wasn',\n",
              " \"wasn't\",\n",
              " 'we',\n",
              " \"we'd\",\n",
              " \"we'll\",\n",
              " \"we're\",\n",
              " 'were',\n",
              " 'weren',\n",
              " \"weren't\",\n",
              " \"we've\",\n",
              " 'what',\n",
              " 'when',\n",
              " 'where',\n",
              " 'which',\n",
              " 'while',\n",
              " 'who',\n",
              " 'whom',\n",
              " 'why',\n",
              " 'will',\n",
              " 'with',\n",
              " 'won',\n",
              " \"won't\",\n",
              " 'wouldn',\n",
              " \"wouldn't\",\n",
              " 'y',\n",
              " 'you',\n",
              " \"you'd\",\n",
              " \"you'll\",\n",
              " 'your',\n",
              " \"you're\",\n",
              " 'yours',\n",
              " 'yourself',\n",
              " 'yourselves',\n",
              " \"you've\"]"
            ]
          },
          "metadata": {},
          "execution_count": 126
        }
      ]
    },
    {
      "cell_type": "code",
      "source": [
        "###Before applying stemming, remove stopwords\n",
        "stemmer= PorterStemmer()"
      ],
      "metadata": {
        "id": "M0RUGKhfB9_w"
      },
      "execution_count": null,
      "outputs": []
    },
    {
      "cell_type": "code",
      "source": [
        "sentences=nltk.sent_tokenize (paragraph)"
      ],
      "metadata": {
        "id": "45YTTAKgB93W"
      },
      "execution_count": null,
      "outputs": []
    },
    {
      "cell_type": "code",
      "source": [
        "##Apply stopwords and filter and then stemming\n",
        "##Apply stemming only if word is not a stopword\n",
        "\n",
        "for i in range(len(sentences)):\n",
        "  words=nltk.word_tokenize (sentences [i])\n",
        "  words=[stemmer.stem(word) for word in words if word not in set (stopwords.words('english'))]\n",
        "  sentences[i]= ' '.join(words)\n"
      ],
      "metadata": {
        "id": "-Y19mozhCXpW"
      },
      "execution_count": null,
      "outputs": []
    },
    {
      "cell_type": "code",
      "source": [
        "sentences"
      ],
      "metadata": {
        "colab": {
          "base_uri": "https://localhost:8080/"
        },
        "id": "BZPGKTuPCXj7",
        "outputId": "8937125b-3f8e-4edb-e330-83224242bfea"
      },
      "execution_count": null,
      "outputs": [
        {
          "output_type": "execute_result",
          "data": {
            "text/plain": [
              "['i three vision india .',\n",
              " 'in 3000 year histori peopl world come invad us , captur land , conquer mind .',\n",
              " 'from alexand onward greek , turk , mogul , portugues , british , french , dutch , came loot us , took .',\n",
              " 'yet done nation .',\n",
              " 'we conquer anyon .',\n",
              " 'we grab land , cultur histori tri enforc way life .',\n",
              " 'whi ?',\n",
              " 'becaus respect freedom other .',\n",
              " 'that first vision freedom .',\n",
              " 'i believ india got first vision 1857 , start war independ .',\n",
              " 'it freedom must protect nurtur build .',\n",
              " 'free , one respect us .']"
            ]
          },
          "metadata": {},
          "execution_count": 140
        }
      ]
    },
    {
      "cell_type": "code",
      "source": [
        "#With snowball stemmer:\n",
        "from nltk.stem import SnowballStemmer\n",
        "snowballstemmer= SnowballStemmer('english')"
      ],
      "metadata": {
        "id": "sCo6vFOfE88w"
      },
      "execution_count": null,
      "outputs": []
    },
    {
      "cell_type": "code",
      "source": [
        "for i in range(len(sentences)):\n",
        "  words=nltk.word_tokenize (sentences [i])\n",
        "  words=[snowballstemmer.stem(word) for word in words if word not in set (stopwords.words('english'))]\n",
        "  sentences[i]= ' '.join(words)\n"
      ],
      "metadata": {
        "id": "LwcEhXD0CXfa"
      },
      "execution_count": null,
      "outputs": []
    },
    {
      "cell_type": "code",
      "source": [
        "sentences"
      ],
      "metadata": {
        "colab": {
          "base_uri": "https://localhost:8080/"
        },
        "id": "v3rq2QRoCXcz",
        "outputId": "bf717c63-f96d-4598-860f-de5309b403d5"
      },
      "execution_count": null,
      "outputs": [
        {
          "output_type": "execute_result",
          "data": {
            "text/plain": [
              "['three vision india .',\n",
              " '3000 year histori peopl world come invad us , captur land , conquer mind .',\n",
              " 'alexand onward greek , turk , mogul , portugu , british , french , dutch , came loot us , took .',\n",
              " 'yet done nation .',\n",
              " 'conquer anyon .',\n",
              " 'grab land , cultur histori tri enforc way life .',\n",
              " 'whi ?',\n",
              " 'becaus respect freedom .',\n",
              " 'first vision freedom .',\n",
              " 'believ india got first vision 1857 , start war independ .',\n",
              " 'freedom must protect nurtur build .',\n",
              " 'free , one respect us .']"
            ]
          },
          "metadata": {},
          "execution_count": 147
        }
      ]
    },
    {
      "cell_type": "code",
      "source": [
        "### With help of lemmatizer:\n",
        "from nltk.stem import WordNetLemmatizer\n",
        "lemmatizer = WordNetLemmatizer()"
      ],
      "metadata": {
        "id": "vHPWxrWXFWnl"
      },
      "execution_count": null,
      "outputs": []
    },
    {
      "cell_type": "code",
      "source": [
        "for i in range(len(sentences)):\n",
        "\n",
        "  words=nltk.word_tokenize (sentences [i])\n",
        "  words=[lemmatizer.lemmatize(word.lower(),'v') for word in words if word not in set (stopwords.words('english'))]\n",
        "  sentences[i]= ' '.join(words)"
      ],
      "metadata": {
        "id": "AW4867gOFWlm"
      },
      "execution_count": null,
      "outputs": []
    },
    {
      "cell_type": "code",
      "source": [
        "sentences"
      ],
      "metadata": {
        "colab": {
          "base_uri": "https://localhost:8080/"
        },
        "id": "9l4Pi_A2FWi_",
        "outputId": "a3718c59-9e71-43e4-da74-79db98933026"
      },
      "execution_count": null,
      "outputs": [
        {
          "output_type": "execute_result",
          "data": {
            "text/plain": [
              "['i three vision india .',\n",
              " 'in 3000 year history people world come invade u , capture land , conquer mind .',\n",
              " 'from alexander onwards greeks , turks , moguls , portuguese , british , french , dutch , come loot u , take .',\n",
              " 'yet nation .',\n",
              " 'we conquer anyone .',\n",
              " 'we grab land , culture history try enforce way life .',\n",
              " 'why ?',\n",
              " 'because respect freedom others .',\n",
              " 'that first vision freedom .',\n",
              " 'i believe india get first vision 1857 , start war independence .',\n",
              " 'it freedom must protect nurture build .',\n",
              " 'if free , one respect u .']"
            ]
          },
          "metadata": {},
          "execution_count": 157
        }
      ]
    },
    {
      "cell_type": "code",
      "source": [
        "###Parts of Speech Tagging:\n",
        "#It will be able to categorize words based on P.O.S\n",
        "import nltk\n",
        "sentences= nltk.sent_tokenize (paragraph)"
      ],
      "metadata": {
        "id": "qy5TF7QBFWf_"
      },
      "execution_count": 8,
      "outputs": []
    },
    {
      "cell_type": "markdown",
      "source": [
        "![WhatsApp Image 2025-05-30 at 09.32.00_addb9163.jpg](data:image/jpeg;base64,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)"
      ],
      "metadata": {
        "id": "h35sitpKdkf8"
      }
    },
    {
      "cell_type": "code",
      "source": [
        "sentences"
      ],
      "metadata": {
        "id": "dEFom9rQFWdW",
        "colab": {
          "base_uri": "https://localhost:8080/"
        },
        "outputId": "eb3c75eb-b35f-464a-dc13-a91efda1ab39"
      },
      "execution_count": 9,
      "outputs": [
        {
          "output_type": "execute_result",
          "data": {
            "text/plain": [
              "[' I have three visions for India.',\n",
              " 'In 3000 years of our history people from all over the world have come and invaded us, captured our lands, conquered our minds.',\n",
              " 'From Alexander onwards the Greeks, the Turks, the Moguls, the Portuguese, the British, the French, the Dutch, all of them came and looted us, took over what was ours.',\n",
              " 'Yet we have not done this to any other nation.',\n",
              " 'We have not conquered anyone.',\n",
              " 'We have not grabbed their land, their culture and their history and tried to enforce our way of life on them.',\n",
              " 'Why?',\n",
              " 'Because we respect the freedom of others.',\n",
              " 'That is why my FIRST VISION is that of FREEDOM.',\n",
              " 'I believe that India got its first vision of this in 1857, when we started the war of Independence.',\n",
              " 'It is this freedom that we must protect and nurture and build on.',\n",
              " 'If we are not free, no one will respect us.']"
            ]
          },
          "metadata": {},
          "execution_count": 9
        }
      ]
    },
    {
      "cell_type": "code",
      "source": [
        "#Finding the Pos Tag\n",
        "nltk.download('averaged_perceptron_tagger_eng')\n",
        "for i in range(len(sentences)):\n",
        "\n",
        "  words=nltk.word_tokenize (sentences [i])\n",
        "  words=[word for word in words if word not in set (stopwords.words('english'))]\n",
        "  #sentences[i]= ' '.join(words)\n",
        "  pos_tag=nltk.pos_tag(words)\n",
        "  print (pos_tag)\n"
      ],
      "metadata": {
        "id": "4-VE7ccxFWbK",
        "colab": {
          "base_uri": "https://localhost:8080/"
        },
        "outputId": "8bc89252-a4ba-4ca3-c8bb-676633c5e352"
      },
      "execution_count": 14,
      "outputs": [
        {
          "output_type": "stream",
          "name": "stderr",
          "text": [
            "[nltk_data] Downloading package averaged_perceptron_tagger_eng to\n",
            "[nltk_data]     /root/nltk_data...\n"
          ]
        },
        {
          "output_type": "stream",
          "name": "stdout",
          "text": [
            "[('I', 'PRP'), ('three', 'CD'), ('visions', 'NNS'), ('India', 'NNP'), ('.', '.')]\n",
            "[('In', 'IN'), ('3000', 'CD'), ('years', 'NNS'), ('history', 'NN'), ('people', 'NNS'), ('world', 'NN'), ('come', 'VBP'), ('invaded', 'VBN'), ('us', 'PRP'), (',', ','), ('captured', 'VBD'), ('lands', 'NNS'), (',', ','), ('conquered', 'VBD'), ('minds', 'NNS'), ('.', '.')]\n",
            "[('From', 'IN'), ('Alexander', 'NNP'), ('onwards', 'NNS'), ('Greeks', 'NNP'), (',', ','), ('Turks', 'NNP'), (',', ','), ('Moguls', 'NNP'), (',', ','), ('Portuguese', 'NNP'), (',', ','), ('British', 'NNP'), (',', ','), ('French', 'NNP'), (',', ','), ('Dutch', 'NNP'), (',', ','), ('came', 'VBD'), ('looted', 'JJ'), ('us', 'PRP'), (',', ','), ('took', 'VBD'), ('.', '.')]\n",
            "[('Yet', 'RB'), ('done', 'VBN'), ('nation', 'NN'), ('.', '.')]\n",
            "[('We', 'PRP'), ('conquered', 'VBD'), ('anyone', 'NN'), ('.', '.')]\n",
            "[('We', 'PRP'), ('grabbed', 'VBD'), ('land', 'NN'), (',', ','), ('culture', 'NN'), ('history', 'NN'), ('tried', 'VBD'), ('enforce', 'JJ'), ('way', 'NN'), ('life', 'NN'), ('.', '.')]\n",
            "[('Why', 'WRB'), ('?', '.')]\n",
            "[('Because', 'IN'), ('respect', 'NN'), ('freedom', 'NN'), ('others', 'NNS'), ('.', '.')]\n",
            "[('That', 'DT'), ('FIRST', 'NNP'), ('VISION', 'NNP'), ('FREEDOM', 'NNP'), ('.', '.')]\n",
            "[('I', 'PRP'), ('believe', 'VBP'), ('India', 'NNP'), ('got', 'VBD'), ('first', 'JJ'), ('vision', 'NN'), ('1857', 'CD'), (',', ','), ('started', 'VBD'), ('war', 'NN'), ('Independence', 'NN'), ('.', '.')]\n",
            "[('It', 'PRP'), ('freedom', 'NN'), ('must', 'MD'), ('protect', 'VB'), ('nurture', 'NN'), ('build', 'NN'), ('.', '.')]\n",
            "[('If', 'IN'), ('free', 'JJ'), (',', ','), ('one', 'CD'), ('respect', 'NN'), ('us', 'PRP'), ('.', '.')]\n"
          ]
        },
        {
          "output_type": "stream",
          "name": "stderr",
          "text": [
            "[nltk_data]   Unzipping taggers/averaged_perceptron_tagger_eng.zip.\n"
          ]
        }
      ]
    },
    {
      "cell_type": "code",
      "source": [
        "#Lets try on a specific sentence\n",
        "print (nltk.pos_tag(\"Taj Mahal is a beautiful monument\".split()))"
      ],
      "metadata": {
        "id": "SUHne6H6FWYu",
        "colab": {
          "base_uri": "https://localhost:8080/"
        },
        "outputId": "5b23e8d4-547b-4d5e-9e67-7036a33e3bed"
      },
      "execution_count": 20,
      "outputs": [
        {
          "output_type": "stream",
          "name": "stdout",
          "text": [
            "[('Taj', 'NNP'), ('Mahal', 'NNP'), ('is', 'VBZ'), ('a', 'DT'), ('beautiful', 'JJ'), ('monument', 'NN')]\n"
          ]
        }
      ]
    },
    {
      "cell_type": "markdown",
      "source": [
        "NAMED ENTITY **RECOGNITION**\n",
        "\n",
        "\n",
        "\n"
      ],
      "metadata": {
        "id": "i7dIvTfFfRVe"
      }
    },
    {
      "cell_type": "code",
      "source": [
        "sentence = \"\"\"The Eiffel Tower was built from 1887 to 1889 by French Engineer Gustave EIffel,\n",
        "whose company specialized in building metal frameworks and structures.\"\"\""
      ],
      "metadata": {
        "id": "XKdkcFCUfRI1"
      },
      "execution_count": 22,
      "outputs": []
    },
    {
      "cell_type": "code",
      "source": [
        "import nltk\n",
        "words=nltk.word_tokenize (sentence)"
      ],
      "metadata": {
        "id": "Bi8H_iWFfjSd"
      },
      "execution_count": 26,
      "outputs": []
    },
    {
      "cell_type": "code",
      "source": [
        "tag_elements=nltk.pos_tag(words)"
      ],
      "metadata": {
        "id": "0EFDPW0xgRPN"
      },
      "execution_count": 27,
      "outputs": []
    },
    {
      "cell_type": "code",
      "source": [
        "nltk.download('maxent_ne_chunker_tab')"
      ],
      "metadata": {
        "colab": {
          "base_uri": "https://localhost:8080/"
        },
        "id": "IbHJgUbWge6W",
        "outputId": "18783587-fdaa-41fc-9de2-d86222556d49"
      },
      "execution_count": 29,
      "outputs": [
        {
          "output_type": "stream",
          "name": "stderr",
          "text": [
            "[nltk_data] Downloading package maxent_ne_chunker_tab to\n",
            "[nltk_data]     /root/nltk_data...\n",
            "[nltk_data]   Unzipping chunkers/maxent_ne_chunker_tab.zip.\n"
          ]
        },
        {
          "output_type": "execute_result",
          "data": {
            "text/plain": [
              "True"
            ]
          },
          "metadata": {},
          "execution_count": 29
        }
      ]
    },
    {
      "cell_type": "code",
      "source": [
        "nltk.download('words')"
      ],
      "metadata": {
        "colab": {
          "base_uri": "https://localhost:8080/"
        },
        "id": "P2rmjqwXglIa",
        "outputId": "b9fa39c7-f1e6-4460-b1a6-7fdaa89f8223"
      },
      "execution_count": 32,
      "outputs": [
        {
          "output_type": "stream",
          "name": "stderr",
          "text": [
            "[nltk_data] Downloading package words to /root/nltk_data...\n",
            "[nltk_data]   Unzipping corpora/words.zip.\n"
          ]
        },
        {
          "output_type": "execute_result",
          "data": {
            "text/plain": [
              "True"
            ]
          },
          "metadata": {},
          "execution_count": 32
        }
      ]
    },
    {
      "cell_type": "code",
      "source": [
        "#For Named Entity Recognition\n",
        "nltk.ne_chunk(tag_elements).draw"
      ],
      "metadata": {
        "colab": {
          "base_uri": "https://localhost:8080/",
          "height": 121
        },
        "id": "9mfyNAW2fRGf",
        "outputId": "10bdcd92-1616-4c97-9069-77f6ad008994"
      },
      "execution_count": 35,
      "outputs": [
        {
          "output_type": "execute_result",
          "data": {
            "text/plain": [
              "<bound method Tree.draw of Tree('S', [('The', 'DT'), Tree('ORGANIZATION', [('Eiffel', 'NNP'), ('Tower', 'NNP')]), ('was', 'VBD'), ('built', 'VBN'), ('from', 'IN'), ('1887', 'CD'), ('to', 'TO'), ('1889', 'CD'), ('by', 'IN'), Tree('GPE', [('French', 'JJ')]), Tree('ORGANIZATION', [('Engineer', 'NNP'), ('Gustave', 'NNP')]), ('EIffel', 'NNP'), (',', ','), ('whose', 'WP$'), ('company', 'NN'), ('specialized', 'VBD'), ('in', 'IN'), ('building', 'NN'), ('metal', 'NN'), ('frameworks', 'NNS'), ('and', 'CC'), ('structures', 'NNS'), ('.', '.')])>"
            ],
            "text/html": [
              "<div style=\"max-width:800px; border: 1px solid var(--colab-border-color);\"><style>\n",
              "      pre.function-repr-contents {\n",
              "        overflow-x: auto;\n",
              "        padding: 8px 12px;\n",
              "        max-height: 500px;\n",
              "      }\n",
              "\n",
              "      pre.function-repr-contents.function-repr-contents-collapsed {\n",
              "        cursor: pointer;\n",
              "        max-height: 100px;\n",
              "      }\n",
              "    </style>\n",
              "    <pre style=\"white-space: initial; background:\n",
              "         var(--colab-secondary-surface-color); padding: 8px 12px;\n",
              "         border-bottom: 1px solid var(--colab-border-color);\"><b>nltk.tree.tree.Tree.draw</b><br/>def draw()</pre><pre class=\"function-repr-contents function-repr-contents-collapsed\" style=\"\"><a class=\"filepath\" style=\"display:none\" href=\"#\">/usr/local/lib/python3.11/dist-packages/nltk/tree/tree.py</a>Open a new window containing a graphical diagram of this tree.</pre>\n",
              "      <script>\n",
              "      if (google.colab.kernel.accessAllowed && google.colab.files && google.colab.files.view) {\n",
              "        for (const element of document.querySelectorAll('.filepath')) {\n",
              "          element.style.display = 'block'\n",
              "          element.onclick = (event) => {\n",
              "            event.preventDefault();\n",
              "            event.stopPropagation();\n",
              "            google.colab.files.view(element.textContent, 755);\n",
              "          };\n",
              "        }\n",
              "      }\n",
              "      for (const element of document.querySelectorAll('.function-repr-contents')) {\n",
              "        element.onclick = (event) => {\n",
              "          event.preventDefault();\n",
              "          event.stopPropagation();\n",
              "          element.classList.toggle('function-repr-contents-collapsed');\n",
              "        };\n",
              "      }\n",
              "      </script>\n",
              "      </div>"
            ]
          },
          "metadata": {},
          "execution_count": 35
        }
      ]
    },
    {
      "cell_type": "code",
      "source": [],
      "metadata": {
        "id": "XMbrk21EfRDd"
      },
      "execution_count": 39,
      "outputs": []
    },
    {
      "cell_type": "code",
      "source": [],
      "metadata": {
        "id": "RtC02hS6fRAd"
      },
      "execution_count": null,
      "outputs": []
    },
    {
      "cell_type": "code",
      "source": [],
      "metadata": {
        "id": "kAyL-5kqfQ8L"
      },
      "execution_count": null,
      "outputs": []
    },
    {
      "cell_type": "code",
      "source": [],
      "metadata": {
        "id": "GxvuOpdQfQ17"
      },
      "execution_count": null,
      "outputs": []
    }
  ]
}